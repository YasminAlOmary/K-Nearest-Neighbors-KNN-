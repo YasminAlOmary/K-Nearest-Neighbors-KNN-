{
 "cells": [
  {
   "cell_type": "markdown",
   "id": "f1416cf8-a89d-47d7-a6d7-c7c55c5113a0",
   "metadata": {},
   "source": [
    "## K-Nearest Neighbors (KNN) "
   ]
  },
  {
   "cell_type": "code",
   "execution_count": 2,
   "id": "4d4c9229-b2e6-4e6b-bd76-e1bece0a49c3",
   "metadata": {},
   "outputs": [
    {
     "name": "stdout",
     "output_type": "stream",
     "text": [
      "matplotlib:  3.8.0\n",
      "sklearn : 1.2.2\n",
      "pandas : 2.1.4\n"
     ]
    }
   ],
   "source": [
    "#importing the required modules\n",
    "import matplotlib\n",
    "import sklearn\n",
    "import pandas\n",
    "\n",
    "#printing the versions of installed modules\n",
    "print(\"matplotlib: \", matplotlib.__version__)\n",
    "print(\"sklearn :\", sklearn.__version__)\n",
    "print(\"pandas :\", pandas.__version__)"
   ]
  },
  {
   "cell_type": "markdown",
   "id": "ec3f0118-b3f0-4047-aece-f8c9c2e356ec",
   "metadata": {},
   "source": [
    "Importing the modules"
   ]
  },
  {
   "cell_type": "code",
   "execution_count": 5,
   "id": "84ed9315-5a7e-49f2-bb09-6a2489cc3de7",
   "metadata": {},
   "outputs": [],
   "source": [
    "# importing the required modules\n",
    "import matplotlib.pyplot as plt\n",
    "import pandas as pd"
   ]
  },
  {
   "cell_type": "markdown",
   "id": "f97a75c9-7d97-4b77-9dc0-05cbf8229756",
   "metadata": {},
   "source": [
    "Importing the dataset"
   ]
  },
  {
   "cell_type": "code",
   "execution_count": 17,
   "id": "1b9d4711-507d-4d4d-a4c1-6120d52e9d63",
   "metadata": {},
   "outputs": [],
   "source": [
    "# Import the data set for KNN algorithm\n",
    "dataset = pd.read_csv('KNN_Data.csv')\n",
    "\n",
    "# storing the input values in the X variable\n",
    "X = dataset.iloc[:,[0,1]].values\n",
    "\n",
    "# storing all the ouputs in y variable\n",
    "y = dataset.iloc[:,2].values"
   ]
  },
  {
   "cell_type": "markdown",
   "id": "22f6e98d-8a1e-4881-8c9b-a8ee19c8b473",
   "metadata": {},
   "source": [
    "data spliting"
   ]
  },
  {
   "cell_type": "code",
   "execution_count": 21,
   "id": "c365dea3-cd40-41ad-bab1-593cc388a646",
   "metadata": {},
   "outputs": [],
   "source": [
    "# importing the train_test_split method from sklearn\n",
    "from sklearn.model_selection import train_test_split\n",
    "\n",
    "# splitting the data \n",
    "X_train, X_test, y_train, y_test = train_test_split(X, y, test_size=0.30, random_state=0)"
   ]
  },
  {
   "cell_type": "markdown",
   "id": "803f29ca-e419-4102-8cc5-cd9dfdc2edea",
   "metadata": {},
   "source": [
    "Feature scaling is a technique to standardize the independent features present in the data in a fixed range. If feature scaling is not done, a Machine Learning algorithm will assume larger values to have more weight and smaller values to have less weight, regardless of the unit of measurement."
   ]
  },
  {
   "cell_type": "code",
   "execution_count": 24,
   "id": "07666259-b3f8-4546-9f72-36fab13e7f01",
   "metadata": {},
   "outputs": [],
   "source": [
    "#Scaling the data\n",
    "# applying standard scale method\n",
    "from sklearn.preprocessing import StandardScaler\n",
    "sc = StandardScaler()\n",
    "\n",
    "# scaling training and testing data set\n",
    "X_train = sc.fit_transform(X_train)\n",
    "X_test = sc.transform(X_test)"
   ]
  },
  {
   "cell_type": "markdown",
   "id": "1553502e-b33b-4044-bbc1-e57e448b9cad",
   "metadata": {},
   "source": [
    "Training the model "
   ]
  },
  {
   "cell_type": "code",
   "execution_count": 27,
   "id": "264bda4e-217b-4c54-8c51-83904004edb5",
   "metadata": {},
   "outputs": [],
   "source": [
    "# importing KNN algorithm\n",
    "from sklearn.neighbors import KNeighborsClassifier\n",
    "\n",
    "# K value set to be 3\n",
    "classifer = KNeighborsClassifier(n_neighbors=3 )\n",
    "\n",
    "# model training\n",
    "classifer.fit(X_train,y_train)\n",
    "\n",
    "# testing the model\n",
    "y_pred= classifer.predict(X_test)"
   ]
  },
  {
   "cell_type": "markdown",
   "id": "e5688cb8-7c15-411f-a6c0-ccb89931b188",
   "metadata": {},
   "source": [
    "accuracy "
   ]
  },
  {
   "cell_type": "code",
   "execution_count": 30,
   "id": "a9cb5782-579c-4b4e-8f3d-f698a7a1b1d7",
   "metadata": {},
   "outputs": [
    {
     "name": "stdout",
     "output_type": "stream",
     "text": [
      "0.8484848484848485\n"
     ]
    }
   ],
   "source": [
    "# importing accuracy_score\n",
    "from sklearn.metrics import accuracy_score\n",
    "\n",
    "# printing accuracy\n",
    "print(accuracy_score(y_test,y_pred))"
   ]
  },
  {
   "cell_type": "code",
   "execution_count": 34,
   "id": "8172999f-0771-4395-85ed-7eed14319606",
   "metadata": {},
   "outputs": [
    {
     "name": "stdout",
     "output_type": "stream",
     "text": [
      "0.8585858585858586\n"
     ]
    }
   ],
   "source": [
    "#accuracy\n",
    "# importing KNN algorithm\n",
    "from sklearn.neighbors import KNeighborsClassifier\n",
    "\n",
    "# K value set to be 4\n",
    "classifer = KNeighborsClassifier(n_neighbors=4)\n",
    "\n",
    "# model training\n",
    "classifer.fit(X_train, y_train)\n",
    "\n",
    "# testing the model\n",
    "y_pred= classifer.predict(X_test)\n",
    "\n",
    "# importing accuracy_score\n",
    "from sklearn.metrics import accuracy_score\n",
    "\n",
    "# printing accuracy\n",
    "print(accuracy_score(y_test, y_pred))"
   ]
  },
  {
   "cell_type": "markdown",
   "id": "5e68c166-48e7-4af5-8011-0908552f3198",
   "metadata": {},
   "source": [
    "## Evaluating KNN algorithm performance\n",
    "Confusion Matrix"
   ]
  },
  {
   "cell_type": "markdown",
   "id": "b178aad0-d370-4ec2-b671-b29a55627987",
   "metadata": {},
   "source": [
    "## Confusion matrix"
   ]
  },
  {
   "cell_type": "code",
   "execution_count": 41,
   "id": "78cfaf19-7093-4851-875a-36261c3df82d",
   "metadata": {},
   "outputs": [
    {
     "name": "stdout",
     "output_type": "stream",
     "text": [
      "[[51  9]\n",
      " [ 5 34]]\n"
     ]
    },
    {
     "data": {
      "image/png": "[encoded data removed]",
      "text/plain": [
       "<Figure size 640x480 with 2 Axes>"
      ]
     },
     "metadata": {},
     "output_type": "display_data"
    }
   ],
   "source": [
    "# importing seaborn\n",
    "import seaborn as sns\n",
    "\n",
    "# Making the Confusion Matrix\n",
    "from sklearn.metrics import confusion_matrix\n",
    "\n",
    "# providing actual and predicted values\n",
    "cm = confusion_matrix(y_test, y_pred)\n",
    "\n",
    "# If True, write the data value in each cell\n",
    "sns.heatmap(cm,annot=True)\n",
    "\n",
    "# saving confusion matrix in png form\n",
    "plt.savefig('confusion_Matrix.png')\n",
    "print(cm)"
   ]
  },
  {
   "cell_type": "markdown",
   "id": "59560fa7-de1b-47d0-9f36-92e6b2d7e1c4",
   "metadata": {},
   "source": [
    "## Confusion matrix for multiclass classification "
   ]
  },
  {
   "cell_type": "code",
   "execution_count": 44,
   "id": "ed5c10e3-0ad5-41cc-bcac-23e7a34a0f63",
   "metadata": {},
   "outputs": [
    {
     "name": "stdout",
     "output_type": "stream",
     "text": [
      "[[5 1 1]\n",
      " [1 4 1]\n",
      " [1 1 4]]\n"
     ]
    },
    {
     "data": {
      "image/png": "[encoded data removed]",
      "text/plain": [
       "<Figure size 640x480 with 2 Axes>"
      ]
     },
     "metadata": {},
     "output_type": "display_data"
    }
   ],
   "source": [
    "# importing the modules\n",
    "import pandas as pd\n",
    "import seaborn as sns\n",
    "\n",
    "# import the data set from Desktop\n",
    "dataset = pd.read_csv('MultiClass.csv')\n",
    "Actual = dataset.iloc[:,0].values\n",
    "Predicted = dataset.iloc[:,1].values\n",
    "\n",
    "# Making the Confusion Matrix\n",
    "from sklearn.metrics import confusion_matrix\n",
    "cm = confusion_matrix(Actual, Predicted)\n",
    "\n",
    "# If True, write the data value in each cell\n",
    "sns.heatmap(cm,annot=True)\n",
    "plt.savefig('h.png')\n",
    "print(cm)"
   ]
  },
  {
   "cell_type": "code",
   "execution_count": null,
   "id": "f82ff001-8c27-4537-88d7-0b017e8249f4",
   "metadata": {},
   "outputs": [],
   "source": []
  }
 ],
 "metadata": {
  "kernelspec": {
   "display_name": "Python 3 (ipykernel)",
   "language": "python",
   "name": "python3"
  },
  "language_info": {
   "codemirror_mode": {
    "name": "ipython",
    "version": 3
   },
   "file_extension": ".py",
   "mimetype": "text/x-python",
   "name": "python",
   "nbconvert_exporter": "python",
   "pygments_lexer": "ipython3",
   "version": "3.11.7"
  }
 },
 "nbformat": 4,
 "nbformat_minor": 5
}
